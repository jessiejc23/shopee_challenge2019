{
 "cells": [
  {
   "cell_type": "code",
   "execution_count": 1,
   "metadata": {},
   "outputs": [],
   "source": [
    "import pandas as pd\n",
    "import numpy as np\n",
    "import networkx as nx"
   ]
  },
  {
   "cell_type": "code",
   "execution_count": 2,
   "metadata": {},
   "outputs": [
    {
     "name": "stderr",
     "output_type": "stream",
     "text": [
      "/Library/Frameworks/Python.framework/Versions/3.6/lib/python3.6/site-packages/IPython/core/interactiveshell.py:2728: DtypeWarning: Columns (1) have mixed types. Specify dtype option on import or set low_memory=False.\n",
      "  interactivity=interactivity, compiler=compiler, result=result)\n"
     ]
    }
   ],
   "source": [
    "df_bank = pd.read_csv('data_2/bank_accounts.csv')\n",
    "df_credit = pd.read_csv('data_2/credit_cards.csv')\n",
    "df_order = pd.read_csv('data_2/orders.csv')\n",
    "df_devices = pd.read_csv('data_2/devices.csv')"
   ]
  },
  {
   "cell_type": "code",
   "execution_count": 3,
   "metadata": {},
   "outputs": [
    {
     "name": "stdout",
     "output_type": "stream",
     "text": [
      "adding edges for credit cards..\n",
      "0\n",
      "CPU times: user 6.44 s, sys: 65 ms, total: 6.51 s\n",
      "Wall time: 6.55 s\n"
     ]
    }
   ],
   "source": [
    "%%time\n",
    "g = nx.Graph()\n",
    "\n",
    "print(\"adding edges for credit cards..\")\n",
    "for idx, ut in df_credit.iterrows():\n",
    "    if idx % 100000 == 0:\n",
    "        print(idx)\n",
    "    u, t = ut\n",
    "    t = 'credit_card:' + t\n",
    "    g.add_edge(u, t,weight = 1)"
   ]
  },
  {
   "cell_type": "code",
   "execution_count": 4,
   "metadata": {},
   "outputs": [
    {
     "name": "stdout",
     "output_type": "stream",
     "text": [
      "adding edges for bank accounts..\n",
      "0\n",
      "100000\n",
      "200000\n",
      "300000\n",
      "CPU times: user 1min 3s, sys: 849 ms, total: 1min 4s\n",
      "Wall time: 1min 7s\n"
     ]
    }
   ],
   "source": [
    "%%time\n",
    "print(\"adding edges for bank accounts..\")\n",
    "for idx, ut in df_bank.iterrows():\n",
    "    if idx % 100000 == 0:\n",
    "        print(idx)\n",
    "    u, t = ut\n",
    "    t = 'bank_account:' + str(t)\n",
    "    g.add_edge(u, t, weight=2)"
   ]
  },
  {
   "cell_type": "code",
   "execution_count": 5,
   "metadata": {},
   "outputs": [
    {
     "name": "stdout",
     "output_type": "stream",
     "text": [
      "adding edges for devices..\n",
      "0\n",
      "100000\n",
      "200000\n",
      "300000\n",
      "400000\n",
      "500000\n",
      "600000\n",
      "700000\n",
      "800000\n",
      "900000\n",
      "1000000\n",
      "1100000\n",
      "1200000\n",
      "1300000\n",
      "1400000\n",
      "CPU times: user 4min 20s, sys: 4.9 s, total: 4min 25s\n",
      "Wall time: 4min 35s\n"
     ]
    }
   ],
   "source": [
    "%%time\n",
    "print(\"adding edges for devices..\")\n",
    "for idx, ud in df_devices.iterrows():\n",
    "    if idx % 100000 == 0:\n",
    "        print(idx)\n",
    "    u, t = ud\n",
    "    t = 'device:' + t\n",
    "    g.add_edge(u, t,weight=3)"
   ]
  },
  {
   "cell_type": "markdown",
   "metadata": {},
   "source": [
    "# Networkx with DFS"
   ]
  },
  {
   "cell_type": "raw",
   "metadata": {},
   "source": [
    "#get the weight of the path (done)\n",
    "#choose smallest weight (done)\n",
    "#sort alphabetically (done)"
   ]
  },
  {
   "cell_type": "code",
   "execution_count": 159,
   "metadata": {},
   "outputs": [],
   "source": [
    "def dfs(buyer, seller):\n",
    "    visited=[]\n",
    "    queue = [[buyer]]\n",
    "    link=[]\n",
    "    shortest_link = np.inf\n",
    "    w = []\n",
    "    while len(queue)!=0:\n",
    "        path = queue.pop(0)\n",
    "        #print(path)\n",
    "        v = path[-1]\n",
    "        if (v == seller):\n",
    "            if (len(path)<= shortest_link):\n",
    "                shortest_link = len(path)\n",
    "                link.append(path)\n",
    "                weight = 0\n",
    "                for idx in range(len(path)-1):\n",
    "                    val = path[idx]\n",
    "                    val2 = path[idx+1]\n",
    "                    weight += g[val][val2]['weight']\n",
    "                w.append(weight)\n",
    "        elif v not in visited:\n",
    "            all_n = nx.neighbors(g,v)\n",
    "            for n in all_n:\n",
    "                new_path = list(path)\n",
    "                new_path.append(n)\n",
    "                queue.append(new_path)\n",
    "            visited.append(v)\n",
    "    \n",
    "    if (len(link)>0):\n",
    "        link = min(link)\n",
    "        #print(link)\n",
    "    return link\n",
    "    "
   ]
  },
  {
   "cell_type": "code",
   "execution_count": 161,
   "metadata": {},
   "outputs": [
    {
     "name": "stdout",
     "output_type": "stream",
     "text": [
      "0\n",
      "50000\n",
      "100000\n",
      "150000\n",
      "200000\n",
      "250000\n",
      "300000\n",
      "350000\n",
      "400000\n",
      "450000\n",
      "500000\n",
      "550000\n",
      "600000\n",
      "CPU times: user 55min 9s, sys: 6.05 s, total: 55min 15s\n",
      "Wall time: 1h 2min 10s\n"
     ]
    }
   ],
   "source": [
    "%%time\n",
    "with open('data_2/out_nx_dfs.csv', 'w') as f:\n",
    "    f.write('idx,orderid,is_fraud\\n')\n",
    "    for idx, order in df_order.iterrows():\n",
    "            #print(idx)\n",
    "            if idx % 50000 == 0:\n",
    "                print(idx)\n",
    "            oid, buyer, seller = order\n",
    "            if buyer == seller:\n",
    "                print(str(idx)+','+str(oid) + ',' + str(buyer) + '\\n')\n",
    "                continue\n",
    "\n",
    "            try:\n",
    "                path = dfs(buyer, seller)\n",
    "                if len(path) < 1:\n",
    "                    f.write(str(idx)+','+str(oid) + ',not fraud\\n')\n",
    "                #    print (\"more than one path\" + str(idx))\n",
    "                \n",
    "                #print(type(path))\n",
    "                #print(path[1:-1])\n",
    "                else: \n",
    "                    toprint = str(idx)+','+str(oid) + ','+ str(buyer)+'-'\n",
    "                    #print(str(oid) + ','+ str(buyer)+'-')\n",
    "                    for p in path[1:-1]:\n",
    "                        if isinstance(p,str):\n",
    "                            toprint = toprint + '\"' + str(p) + '\"->'\n",
    "                        else:\n",
    "                            toprint = toprint + str(p) + '-'\n",
    "                    toprint = toprint + str(seller) + '\\n'\n",
    "                    f.write(toprint)\n",
    "                \n",
    "            except nx.NetworkXNoPath:\n",
    "                f.write(str(idx)+','+str(oid) + ',not fraud\\n')\n",
    "                #continue\n",
    "            except nx.NodeNotFound:\n",
    "                f.write(str(idx)+','+str(oid) + ',not fraud\\n')\n",
    "                #continue\n",
    "            except nx.NetworkXError:\n",
    "                f.write(str(idx)+','+str(oid) + ',not fraud\\n')\n",
    "                #continue\n",
    "        "
   ]
  }
 ],
 "metadata": {
  "kernelspec": {
   "display_name": "Python 3",
   "language": "python",
   "name": "python3"
  },
  "language_info": {
   "codemirror_mode": {
    "name": "ipython",
    "version": 3
   },
   "file_extension": ".py",
   "mimetype": "text/x-python",
   "name": "python",
   "nbconvert_exporter": "python",
   "pygments_lexer": "ipython3",
   "version": "3.6.2"
  }
 },
 "nbformat": 4,
 "nbformat_minor": 2
}
